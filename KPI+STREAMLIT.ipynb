{
 "cells": [
  {
   "cell_type": "code",
   "execution_count": 10,
   "metadata": {},
   "outputs": [
    {
     "name": "stdout",
     "output_type": "stream",
     "text": [
      "[*********************100%***********************]  1 of 1 completed\n",
      "[*********************100%***********************]  1 of 1 completed\n",
      "[*********************100%***********************]  1 of 1 completed\n",
      "[*********************100%***********************]  1 of 1 completed\n"
     ]
    }
   ],
   "source": [
    "import pandas as pd\n",
    "import pandas_datareader.data as web\n",
    "import datetime\n",
    "import yfinance as yf\n",
    "\n",
    "# Definir empresas\n",
    "companies = ['AOS', 'AFL', 'ABT', 'PTC']\n",
    "\n",
    "# Definir rango de fechas\n",
    "start_date = datetime.datetime.now() - datetime.timedelta(days=33*365)\n",
    "end_date = datetime.datetime.now()\n",
    "\n",
    "# Crear un diccionario vacío para almacenar los dataframes de las empresas\n",
    "dataframes = {}\n",
    "\n",
    "# Obtener los datos históricos para cada empresa y agregarlos al diccionario\n",
    "for company in companies:\n",
    "    df = yf.download(company, start=start_date, end=end_date)\n",
    "    df['Ticker'] = company\n",
    "    dataframes[company] = df\n",
    "\n",
    "# Crear las columnas \"Rendimiento\" y \"Volatilidad\" para cada empresa\n",
    "for company in companies:\n",
    "    df = dataframes[company]\n",
    "    df['Rendimiento'] = (df['Adj Close'] / df['Adj Close'].shift(1)) - 1\n",
    "    df['Volatilidad'] = df['Rendimiento'].rolling(252).std() * (252 ** 0.5)\n",
    "\n",
    "    # Calcular el índice Sharpe para cada empresa\n",
    "    df['Indice Sharpe'] = (df['Rendimiento'].mean() / df['Rendimiento'].std()) * (252 ** 0.5)\n",
    "\n",
    "    # Crear un CSV para cada empresa\n",
    "    df.to_csv(f\"{company}.csv\", index=False)\n",
    "\n",
    "# Combinar los dataframes en un solo dataframe\n",
    "df_combined = pd.concat(dataframes.values())\n",
    "\n",
    "# Crear las columnas \"Rendimiento\" y \"Volatilidad\" para el dataframe combinado\n",
    "df_combined['Rendimiento'] = (df_combined.groupby('Ticker')['Adj Close'].pct_change())\n",
    "df_combined['Volatilidad'] = (df_combined.groupby('Ticker')['Rendimiento'].rolling(252).std() * (252 ** 0.5)).reset_index(level=0, drop=True)\n",
    "\n",
    "# Calcular el índice Sharpe para el dataframe combinado\n",
    "df_combined['Indice Sharpe'] = (df_combined.groupby('Ticker')['Rendimiento'].mean() / df_combined.groupby('Ticker')['Rendimiento'].std()) * (252 ** 0.5)\n",
    "\n",
    "# Exportar el dataframe combinado a CSV\n",
    "df_combined.to_csv(\"combined.csv\", index=False)"
   ]
  },
  {
   "cell_type": "code",
   "execution_count": 11,
   "metadata": {},
   "outputs": [
    {
     "name": "stderr",
     "output_type": "stream",
     "text": [
      "2023-03-28 20:46:26.837 \n",
      "  \u001b[33m\u001b[1mWarning:\u001b[0m to view this Streamlit app on a browser, run it with the following\n",
      "  command:\n",
      "\n",
      "    streamlit run c:\\Users\\jorge\\AppData\\Local\\Programs\\Python\\Python311\\Lib\\site-packages\\ipykernel_launcher.py [ARGUMENTS]\n"
     ]
    }
   ],
   "source": [
    "import streamlit as st\n",
    "import pandas as pd\n",
    "\n",
    "# Leer los archivos CSV generados previamente\n",
    "df_AOS = pd.read_csv('AOS.csv')\n",
    "df_AFL = pd.read_csv('AFL.csv')\n",
    "df_ABT = pd.read_csv('ABT.csv')\n",
    "df_PTC = pd.read_csv('PTC.csv')\n",
    "\n",
    "# Crear una función para mostrar los KPI's\n",
    "def kpis(df):\n",
    "    st.write(f\"Rendimiento: {round(df['Rendimiento'].iloc[-1], 2)}\")\n",
    "    st.write(f\"Volatilidad: {round(df['Volatilidad'].iloc[-1], 2)}\")\n",
    "    st.write(f\"Índice Sharpe: {round(df['Rendimiento'].iloc[-1] / df['Volatilidad'].iloc[-1], 2)}\")\n",
    "\n",
    "# Crear una página para cada empresa\n",
    "st.set_page_config(page_title='Dashboard', page_icon=\":bar_chart:\", layout=\"wide\")\n",
    "\n",
    "# Página para AOS\n",
    "st.write(\"# A.O. Smith Corporation (AOS)\")\n",
    "kpis(df_AOS)\n",
    "\n",
    "# Página para AFL\n",
    "st.write(\"# Aflac Incorporated (AFL)\")\n",
    "kpis(df_AFL)\n",
    "\n",
    "# Página para ABT\n",
    "st.write(\"# Abbott Laboratories (ABT)\")\n",
    "kpis(df_ABT)\n",
    "\n",
    "# Página para PTC\n",
    "st.write(\"# PTC Inc. (PTC)\")\n",
    "kpis(df_PTC)"
   ]
  }
 ],
 "metadata": {
  "kernelspec": {
   "display_name": "Python 3",
   "language": "python",
   "name": "python3"
  },
  "language_info": {
   "codemirror_mode": {
    "name": "ipython",
    "version": 3
   },
   "file_extension": ".py",
   "mimetype": "text/x-python",
   "name": "python",
   "nbconvert_exporter": "python",
   "pygments_lexer": "ipython3",
   "version": "3.11.1"
  },
  "orig_nbformat": 4
 },
 "nbformat": 4,
 "nbformat_minor": 2
}
